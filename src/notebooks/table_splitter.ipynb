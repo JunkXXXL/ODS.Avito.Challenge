{
 "cells": [
  {
   "cell_type": "code",
   "execution_count": 1,
   "id": "563c6376-2b0b-4a16-a196-0275c5ca1e7f",
   "metadata": {},
   "outputs": [],
   "source": [
    "from datetime import timedelta\n",
    "import polars as pl\n",
    "import implicit"
   ]
  },
  {
   "cell_type": "code",
   "execution_count": 2,
   "id": "c0b8b715-18ab-4b74-9ff1-2f519a7e4661",
   "metadata": {},
   "outputs": [],
   "source": [
    "#ТВОЯ ОПЕРАТИВКА НАБУХНЕТ ОТ ДАТЫ\n",
    "\n",
    "DATA_DIR = r'D:\\ANDwork\\Python\\AvitoML\\data'\n",
    "\n",
    "df_test_users = pl.read_parquet(f'{DATA_DIR}/test_users.pq')\n",
    "df_clickstream = pl.read_parquet(f'{DATA_DIR}/clickstream.pq')\n",
    "\n",
    "df_cat_features = pl.read_parquet(f'{DATA_DIR}/cat_features.pq')\n",
    "df_text_features = pl.read_parquet(f'{DATA_DIR}/text_features.pq')\n",
    "df_event = pl.read_parquet(f'{DATA_DIR}/events.pq')"
   ]
  },
  {
   "cell_type": "markdown",
   "id": "b1dcc6ee-d0f1-4480-a812-02942646316b",
   "metadata": {},
   "source": [
    "## Слив таблицы clickstream и events"
   ]
  },
  {
   "cell_type": "code",
   "execution_count": 3,
   "id": "25c74b45-d917-4c9c-a538-e7d194ffae0f",
   "metadata": {},
   "outputs": [],
   "source": [
    "df_clickstream = df_clickstream.join(df_event, left_on=\"event\", right_on=\"event\")\n",
    "df_clickstream = df_clickstream.drop([\"event\", \"node\"])"
   ]
  },
  {
   "cell_type": "code",
   "execution_count": 4,
   "id": "2958ebaa-105d-4de5-a073-e2d58e0f6388",
   "metadata": {},
   "outputs": [],
   "source": [
    "df_cat_features = df_cat_features.drop([\"clean_params\"])\n",
    "\n",
    "df_clickstream = df_clickstream.join(df_cat_features, left_on=\"item\", right_on=\"item\")\n",
    "#df_clickstream = df_clickstream.join(df_text_features, left_on=\"item\", right_on=\"item\")"
   ]
  },
  {
   "cell_type": "code",
   "execution_count": 51,
   "id": "f4b78498-6465-4a09-8ba2-7d3e161a686e",
   "metadata": {},
   "outputs": [
    {
     "data": {
      "text/plain": [
       "'-128 127 127 -73 65 -128 42 -83 -128 -128 -125 86 9 -128 42 62 51 -128 121 -27 99 -58 113 127 59 -33 -128 3 127 53 -50 -5 -48 -4 -128 87 127 87 -33 104 41 -30 -16 73 127 127 54 7 29 -128 98 17 127 -31 8 8 13 -121 -8 -42 42 23 98 -59 '"
      ]
     },
     "execution_count": 51,
     "metadata": {},
     "output_type": "execute_result"
    }
   ],
   "source": [
    "def to_str(lst):\n",
    "    string = \"\"\n",
    "    for e in lst:\n",
    "        string += str(e) + \" \"\n",
    "    return string\n",
    "\n",
    "to_str(df_clickstream[0,9].to_list())"
   ]
  },
  {
   "cell_type": "code",
   "execution_count": null,
   "id": "63f83964-73ae-47b6-a514-b1b7f30e7ca4",
   "metadata": {},
   "outputs": [
    {
     "name": "stderr",
     "output_type": "stream",
     "text": [
      "C:\\Users\\Администратор\\AppData\\Local\\Temp\\ipykernel_15952\\2103924054.py:1: MapWithoutReturnDtypeWarning: Calling `map_elements` without specifying `return_dtype` can lead to unpredictable results. Specify `return_dtype` to silence this warning.\n",
      "  df_clickstream[:, 9] = df_clickstream[:, 9].map_elements(to_str)\n"
     ]
    }
   ],
   "source": [
    "df_clickstream[:, 9] = df_clickstream[:, 9].map_elements(to_str)"
   ]
  },
  {
   "cell_type": "code",
   "execution_count": null,
   "id": "ac92b1fe-cc81-4a15-8636-4c38300f8fd3",
   "metadata": {},
   "outputs": [],
   "source": [
    "df_clickstream[0,9]"
   ]
  },
  {
   "cell_type": "code",
   "execution_count": 5,
   "id": "8fc32c0c-6f28-4eb2-ae51-fb9f0c0d6fc8",
   "metadata": {},
   "outputs": [],
   "source": [
    "df_clickstream.write_csv(DATA_DIR + \"full_information.csv\")"
   ]
  },
  {
   "cell_type": "code",
   "execution_count": null,
   "id": "a6a2330a-8650-48fe-82c5-92566d06dc6f",
   "metadata": {},
   "outputs": [],
   "source": []
  }
 ],
 "metadata": {
  "kernelspec": {
   "display_name": "Python 3 (ipykernel)",
   "language": "python",
   "name": "python3"
  },
  "language_info": {
   "codemirror_mode": {
    "name": "ipython",
    "version": 3
   },
   "file_extension": ".py",
   "mimetype": "text/x-python",
   "name": "python",
   "nbconvert_exporter": "python",
   "pygments_lexer": "ipython3",
   "version": "3.12.8"
  }
 },
 "nbformat": 4,
 "nbformat_minor": 5
}
